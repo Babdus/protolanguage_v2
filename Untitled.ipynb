{
 "cells": [
  {
   "cell_type": "code",
   "execution_count": null,
   "metadata": {},
   "outputs": [],
   "source": [
    "s = {1,2,3,4,5,6,7,8,9,10,11,12,13,14,15,16,17,18,19,20}"
   ]
  },
  {
   "cell_type": "code",
   "execution_count": null,
   "metadata": {},
   "outputs": [],
   "source": [
    "def rec(chosen, rest, n):\n",
    "    subsets = [chosen]\n",
    "    rest2 = rest\n",
    "    for r in rest:\n",
    "        rest2 = rest2 - {r}\n",
    "        chosen2 = chosen | {r}\n",
    "        subsets += rec(chosen2, rest2, n+1)\n",
    "    return subsets"
   ]
  },
  {
   "cell_type": "code",
   "execution_count": null,
   "metadata": {},
   "outputs": [],
   "source": [
    "subsets = rec(set(), s, 0)"
   ]
  },
  {
   "cell_type": "code",
   "execution_count": null,
   "metadata": {
    "scrolled": true
   },
   "outputs": [],
   "source": [
    "len(subsets)"
   ]
  },
  {
   "cell_type": "code",
   "execution_count": null,
   "metadata": {},
   "outputs": [],
   "source": [
    "42*4096"
   ]
  },
  {
   "cell_type": "code",
   "execution_count": null,
   "metadata": {},
   "outputs": [],
   "source": [
    "letters = {\n",
    "    'p': {'LB', 'PL'},\n",
    "    'b': {'LB', 'PL', 'VO'},\n",
    "    'p' + u'\\u032a': {'LD', 'PL'},\n",
    "    'b' + u'\\u032a': {'LD', 'PL', 'VO'},\n",
    "    't': {'AL', 'PL'},\n",
    "    'd': {'AL', 'PL', 'VO'},\n",
    "    'ʈ': {'RE', 'PL'},\n",
    "    'ɖ': {'RE', 'PL', 'VO'},\n",
    "    'c': {'PA', 'PL'},\n",
    "    'ɟ': {'PA', 'PL', 'VO'},\n",
    "    'k': {'VE', 'PL'},\n",
    "    'g': {'VE', 'PL', 'VO'},\n",
    "    'q': {'UV', 'PL'},\n",
    "    'ɢ': {'UV', 'PL', 'VO'},\n",
    "    'ʡ': {'PH', 'PL'},\n",
    "    'ʔ': {'GL', 'PL'},\n",
    "\n",
    "    'm': {'LB', 'NA', 'VO'},\n",
    "    'ɱ': {'LD', 'NA', 'VO'},\n",
    "    'n': {'AL', 'NA', 'VO'},\n",
    "    'ɳ': {'RE', 'NA', 'VO'},\n",
    "    'ɲ': {'PA', 'NA', 'VO'},\n",
    "    'ŋ': {'VE', 'NA', 'VO'},\n",
    "    'ɴ': {'UV', 'NA', 'VO'},\n",
    "\n",
    "    'ʙ': {'LB', 'VI', 'VO'},\n",
    "    'r': {'AL', 'VI', 'VO'},\n",
    "    'ɽr': {'RE', 'VI', 'VO'},\n",
    "    'ʀ': {'UV', 'VI', 'VO'},\n",
    "    'ʜ': {'PH', 'VI'},\n",
    "    'ʢ': {'PH', 'VI', 'VO'},\n",
    "\n",
    "    'ⱱ' + u'\\u031f': {'LB', 'TA', 'VO'},\n",
    "    'ⱱ': {'LD', 'TA', 'VO'},\n",
    "    'ɾ': {'AL', 'TA', 'VO'},\n",
    "    'ɽ': {'RE', 'TA', 'VO'},\n",
    "    'ʀ̆': {'UV', 'TA', 'VO'},\n",
    "    'ʢ̆': {'PH', 'TA', 'VO'},\n",
    "\n",
    "    'ɸ': {'LB', 'NS'},\n",
    "    'β': {'LB', 'NS', 'VO'},\n",
    "    'f': {'LD', 'NS'},\n",
    "    'v': {'LD', 'NS', 'VO'},\n",
    "    'θ': {'DE', 'NS'},\n",
    "    'ð': {'DE', 'NS', 'VO'},\n",
    "    's': {'AL', 'SS'},\n",
    "    'z': {'AL', 'SS', 'VO'},\n",
    "    'ʃ': {'PO', 'SS'},\n",
    "    'ʒ': {'PO', 'SS', 'VO'},\n",
    "    'ʂ': {'RE', 'SS'},\n",
    "    'ʐ': {'RE', 'SS', 'VO'},\n",
    "    'ç': {'PA', 'NS'},\n",
    "    'ʝ': {'PA', 'NS', 'VO'},\n",
    "    'x': {'VE', 'NS'},\n",
    "    'ɣ': {'VE', 'NS', 'VO'},\n",
    "    'χ': {'UV', 'NS'},\n",
    "    'ʁ': {'UV', 'NS', 'VO'},\n",
    "    'ħ': {'PH', 'NS'},\n",
    "    'ʕ': {'PH', 'NS', 'VO'},\n",
    "    'h': {'GL', 'NS'},\n",
    "    'ɦ': {'GL', 'NS', 'VO'},\n",
    "    'ɬ': {'AL', 'NS', 'LA'},\n",
    "    'ɮ': {'AL', 'NS', 'LA', 'VO'},\n",
    "\n",
    "    'pɸ': {'LB', 'NF'},\n",
    "    'bβ': {'LB', 'NF', 'VO'},\n",
    "    'ts': {'AL', 'SF'},\n",
    "    'dz': {'AL', 'SF', 'VO'},\n",
    "    'tɕ': {'AL', 'PA', 'SF'},\n",
    "    'dʑ': {'AL', 'PA', 'SF', 'VO'},\n",
    "    'tʃ': {'PO', 'SF'},\n",
    "    'dʒ': {'PO', 'SF', 'VO'},\n",
    "    'ʈʂ': {'RE', 'SF'},\n",
    "    'ɖʐ': {'RE', 'SF', 'VO'},\n",
    "    'cç': {'PA', 'NF'},\n",
    "    'ɟʝ': {'PA', 'NF', 'VO'},\n",
    "    'kx': {'VE', 'NF'},\n",
    "    'gɣ': {'VE', 'NF', 'VO'},\n",
    "    'qχ': {'UV', 'NF'},\n",
    "    'ɢʁ': {'UV', 'NF', 'VO'},\n",
    "    'ʡħ': {'PH', 'NF'},\n",
    "    'ʡʕ': {'PH', 'NF', 'VO'},\n",
    "    'ʔh': {'GL', 'NF'},\n",
    "    'ʔɦ': {'GL', 'NF', 'VO'},\n",
    "\n",
    "\n",
    "    'ʋ': {'LD', 'SV', 'VO'},\n",
    "    'ɹ': {'AL', 'SV', 'VO'},\n",
    "    'ɹ' + u'\\u0320': {'PO', 'SV', 'VO'},\n",
    "    'ɻ': {'RE', 'SV', 'VO'},\n",
    "    'j': {'PA', 'SV', 'VO'},\n",
    "    'ɰ': {'VE', 'SV', 'VO'},\n",
    "\n",
    "    'l': {'AL', 'SV', 'LA', 'VO'},\n",
    "    'ɬ': {'AL', 'NS', 'LA'},\n",
    "    'ɮ': {'AL', 'NS', 'LA', 'VO'},\n",
    "    'ɭ': {'RE', 'SV', 'LA', 'VO'},\n",
    "    'ɭ' + u'\\u031d': {'RE', 'NS', 'LA', 'VO'},\n",
    "    'ʎ': {'PA', 'SV', 'LA', 'VO'},\n",
    "    'ʎ' + u'\\u031d': {'PA', 'NS', 'LA', 'VO'},\n",
    "    'ʟ': {'VE', 'SV', 'LA', 'VO'},\n",
    "    'ʟ' + u'\\u031d': {'VE', 'NS', 'LA', 'VO'},\n",
    "\n",
    "    'ʘ': {'LB', 'PL', 'EJ', 'IN'},\n",
    "    'ǀ': {'DE', 'PL', 'EJ', 'IN'},\n",
    "    'ǃ': {'AL', 'PL', 'EJ', 'IN'},\n",
    "    '‼': {'RE', 'PL', 'EJ', 'IN'},\n",
    "    'ǂ': {'PA', 'PL', 'EJ', 'IN'},\n",
    "    'ʞ': {'VE', 'PL', 'EJ', 'IN'},\n",
    "    'ǁ': {'AL', 'PL', 'LA', 'EJ', 'IN'},\n",
    "\n",
    "    'ɓ': {'LB', 'PL', 'VO', 'IN'},\n",
    "    'ɗ': {'AL', 'PL', 'VO', 'IN'},\n",
    "    'ᶑ': {'RE', 'PL', 'VO', 'IN'},\n",
    "    'ʄ': {'PA', 'PL', 'VO', 'IN'},\n",
    "    'ɠ': {'VE', 'PL', 'VO', 'IN'},\n",
    "    'ʛ': {'UV', 'PL', 'VO', 'IN'},\n",
    "\n",
    "    'ʍ': {'LB', 'VZ', 'SV'},\n",
    "    'w': {'LB', 'VZ', 'SV', 'VO'},\n",
    "    'ɥ': {'LB', 'PZ', 'SV', 'VO'},\n",
    "    'ɫ': {'AL', 'VZ', 'SV', 'LA', 'VO'},\n",
    "    'ɺ': {'AL', 'TA', 'LA', 'VO'},\n",
    "    'ɕ': {'AL', 'PA', 'SS'},\n",
    "    'ʑ': {'AL', 'PA', 'SS', 'VO'},\n",
    "    'ȵ': {'AL', 'PA', 'VO', 'NA'},\n",
    "    'ɧ': {'PO', 'VE', 'SS'},\n",
    "\n",
    "    'i': {'PA', 'CL', 'VO'},\n",
    "    'ĩ': {'PA', 'CL', 'VO', 'NZ'},\n",
    "    'y': {'LZ', 'PA', 'CL', 'VO'},\n",
    "    'ỹ': {'LZ', 'PA', 'CL', 'VO', 'NZ'},\n",
    "    'ɨ': {'NE', 'CL', 'VO'},\n",
    "    'ʉ': {'LZ', 'NE', 'CL', 'VO'},\n",
    "    'ɯ': {'VE', 'CL', 'VO'},\n",
    "    'u': {'LZ', 'VE', 'CL', 'VO'},\n",
    "    'ũ': {'LZ', 'VE', 'CL', 'VO', 'NZ'},\n",
    "    'ɪ': {'PZ', 'NE', 'NC', 'VO'},\n",
    "    'ʏ': {'LZ', 'PZ', 'NE', 'NC', 'VO'},\n",
    "    'ʊ': {'LZ', 'VZ', 'NE', 'NC', 'VO'},\n",
    "    'e': {'PA', 'MC', 'VO'},\n",
    "    'ẽ': {'PA', 'MC', 'VO', 'NZ'},\n",
    "    'ø': {'LZ', 'PA', 'MC', 'VO'},\n",
    "    'ɘ': {'NE', 'MC', 'VO'},\n",
    "    'ɵ': {'LZ', 'NE', 'MC', 'VO'},\n",
    "    'ɤ': {'VE', 'MC', 'VO'},\n",
    "    'o': {'LZ', 'VE', 'MC', 'VO'},\n",
    "    'õ': {'LZ', 'VE', 'MC', 'VO', 'NZ'},\n",
    "    'ə': {'NE', 'MI', 'VO'},\n",
    "    'ɛ': {'PA', 'MO', 'VO'},\n",
    "    'œ': {'LZ', 'PA', 'MO', 'VO'},\n",
    "    'ɜ': {'NE', 'MO', 'VO'},\n",
    "    'ɞ': {'LZ', 'NE', 'MO', 'VO'},\n",
    "    'ʌ': {'VE', 'MO', 'VO'},\n",
    "    'ɔ': {'LZ', 'VE', 'MO', 'VO'},\n",
    "    'æ': {'PA', 'NO', 'VO'},\n",
    "    'ɐ': {'NE', 'NO', 'VO'},\n",
    "    'a': {'PA', 'OP', 'VO'},\n",
    "    'ã': {'PA', 'OP', 'VO', 'NZ'},\n",
    "    'ɶ': {'LZ', 'PA', 'OP', 'VO'},\n",
    "    'ä': {'NE', 'OP', 'VO'},\n",
    "    'ɑ': {'VE', 'OP', 'VO'},\n",
    "    'ɒ': {'LZ', 'VE', 'OP', 'VO'},\n",
    "    'ɚ': {'RZ', 'NE', 'MI', 'VO'},\n",
    "    'ɝ': {'RZ', 'NE', 'MO', 'VO'}\n",
    "}"
   ]
  },
  {
   "cell_type": "code",
   "execution_count": null,
   "metadata": {},
   "outputs": [],
   "source": [
    "letters"
   ]
  },
  {
   "cell_type": "code",
   "execution_count": null,
   "metadata": {},
   "outputs": [],
   "source": [
    "ph = 'ʕ̞'"
   ]
  },
  {
   "cell_type": "code",
   "execution_count": null,
   "metadata": {},
   "outputs": [],
   "source": [
    "ph[1].encode().decode()"
   ]
  },
  {
   "cell_type": "code",
   "execution_count": null,
   "metadata": {},
   "outputs": [],
   "source": [
    "import pandas as pd"
   ]
  },
  {
   "cell_type": "code",
   "execution_count": null,
   "metadata": {},
   "outputs": [],
   "source": [
    "catalogue_path = '../Protolanguage/Data/words_and_languages/Catalogue.csv'\n",
    "df = pd.read_csv(catalogue_path, index_col='Code')\n",
    "df = df[df.index.notnull()]\n",
    "df.drop(['Family', 'Group', 'Code2'], axis=1, inplace=True)\n",
    "df = df[df['#'] > 177]\n",
    "df.drop(['#'], axis=1, inplace=True)\n",
    "df = df.fillna('')"
   ]
  },
  {
   "cell_type": "code",
   "execution_count": null,
   "metadata": {},
   "outputs": [],
   "source": [
    "df"
   ]
  },
  {
   "cell_type": "code",
   "execution_count": null,
   "metadata": {},
   "outputs": [],
   "source": [
    "for index, row in df.iterrows():\n",
    "    print(index)\n",
    "    row.drop(['Language'], inplace=True)\n",
    "    for col in row.index:\n",
    "        print(col, row[col])"
   ]
  },
  {
   "cell_type": "code",
   "execution_count": 3,
   "metadata": {},
   "outputs": [],
   "source": [
    "from pickles import *\n",
    "from constructor import construct_languages\n",
    "from linguistics import *\n",
    "from comparison import *\n",
    "import numpy as np\n",
    "from weighted_levenshtein import lev, osa, dam_lev"
   ]
  },
  {
   "cell_type": "code",
   "execution_count": 4,
   "metadata": {},
   "outputs": [],
   "source": [
    "languages = construct_languages('../Protolanguage/Data/words_and_languages/Catalogue.csv')"
   ]
  },
  {
   "cell_type": "code",
   "execution_count": 3,
   "metadata": {},
   "outputs": [],
   "source": [
    "lang_1 = languages[1]\n",
    "lang_2 = languages[3]"
   ]
  },
  {
   "cell_type": "code",
   "execution_count": 4,
   "metadata": {
    "collapsed": true,
    "jupyter": {
     "outputs_hidden": true
    }
   },
   "outputs": [
    {
     "data": {
      "text/plain": [
       "[('there', 1),\n",
       " ('bark', 1),\n",
       " ('snake', 0),\n",
       " ('year', 1),\n",
       " ('blood', 0),\n",
       " ('rain', 1),\n",
       " ('night', 2),\n",
       " ('river', 1),\n",
       " ('ear', 0),\n",
       " ('nose', 0),\n",
       " ('dust', 1),\n",
       " ('I', 0),\n",
       " ('two', 1),\n",
       " ('father', 2),\n",
       " ('flow', 3),\n",
       " ('forest', 0),\n",
       " ('dog', 0),\n",
       " ('water', 1),\n",
       " ('egg', 3),\n",
       " ('hold', 2),\n",
       " ('day', 0),\n",
       " ('sky', 2),\n",
       " ('eye', 2),\n",
       " ('and', 0),\n",
       " ('mouth', 0),\n",
       " ('snow', 0),\n",
       " ('red', 1),\n",
       " ('you', 1),\n",
       " ('laugh', 2),\n",
       " ('fish', 0),\n",
       " ('walk', 0),\n",
       " ('cloud', 1),\n",
       " ('count', 3),\n",
       " ('full', 0),\n",
       " ('fire', 2),\n",
       " ('cold', 1),\n",
       " ('child', 0),\n",
       " ('white', 1),\n",
       " ('back', 0),\n",
       " ('meat', 1),\n",
       " ('fear', 1),\n",
       " ('this', 0),\n",
       " ('yellow', 0),\n",
       " ('ice', 0),\n",
       " ('tree', 1),\n",
       " ('sand', 0),\n",
       " ('sing', 2)]"
      ]
     },
     "execution_count": 4,
     "metadata": {},
     "output_type": "execute_result"
    }
   ],
   "source": [
    "calculate_language_distance(lang_1, lang_2)"
   ]
  },
  {
   "cell_type": "code",
   "execution_count": 66,
   "metadata": {
    "collapsed": true,
    "jupyter": {
     "outputs_hidden": true,
     "source_hidden": true
    }
   },
   "outputs": [
    {
     "name": "stdout",
     "output_type": "stream",
     "text": [
      "[[0. 0. 0. 0. 0.]\n",
      " [0. 0. 0. 0. 0.]\n",
      " [0. 0. 0. 0. 0.]\n",
      " [0. 0. 0. 0. 0.]]\n",
      "[[ 0.  3.  8. 11. 14.]\n",
      " [ 3.  0.  0.  0.  0.]\n",
      " [ 6.  0.  0.  0.  0.]\n",
      " [ 9.  0.  0.  0.  0.]]\n"
     ]
    }
   ],
   "source": [
    "seq1 = lang_1['tree']\n",
    "seq2 = lang_2['tree']\n",
    "\n",
    "size_x = len(seq1) + 1\n",
    "size_y = len(seq2) + 1\n",
    "matrix = np.zeros ((size_x, size_y))\n",
    "print(matrix)\n",
    "for x in range(1, size_x):\n",
    "    matrix [x, 0] = len(seq1[x-1]) + matrix[x-1, 0]\n",
    "for y in range(1, size_y):\n",
    "    matrix [0, y] = len(seq2[y-1]) + matrix[0, y-1]\n",
    "print(matrix)"
   ]
  },
  {
   "cell_type": "code",
   "execution_count": 62,
   "metadata": {
    "collapsed": true,
    "jupyter": {
     "outputs_hidden": true,
     "source_hidden": true
    }
   },
   "outputs": [
    {
     "name": "stdout",
     "output_type": "stream",
     "text": [
      "bʊəm bam\n"
     ]
    }
   ],
   "source": [
    "print(str(seq2), str(seq1))"
   ]
  },
  {
   "cell_type": "code",
   "execution_count": 67,
   "metadata": {
    "collapsed": true,
    "jupyter": {
     "outputs_hidden": true,
     "source_hidden": true
    }
   },
   "outputs": [
    {
     "data": {
      "text/plain": [
       "array([[ 0.,  3.,  8., 11., 14.],\n",
       "       [ 3.,  0.,  0.,  0.,  0.],\n",
       "       [ 6.,  0.,  0.,  0.,  0.],\n",
       "       [ 9.,  0.,  0.,  0.,  0.]])"
      ]
     },
     "execution_count": 67,
     "metadata": {},
     "output_type": "execute_result"
    }
   ],
   "source": [
    "matrix"
   ]
  },
  {
   "cell_type": "code",
   "execution_count": 70,
   "metadata": {
    "collapsed": true,
    "jupyter": {
     "outputs_hidden": true,
     "source_hidden": true
    }
   },
   "outputs": [
    {
     "name": "stdout",
     "output_type": "stream",
     "text": [
      "1 1 b b\n",
      "1 2 b ʊ\n",
      "1 3 b ə\n",
      "1 4 b m\n",
      "2 1 a b\n",
      "2 2 a ʊ\n",
      "2 3 a ə\n",
      "2 4 a m\n",
      "3 1 m b\n",
      "3 2 m ʊ\n",
      "3 3 m ə\n",
      "3 4 m m\n"
     ]
    }
   ],
   "source": [
    "for x in range(1, size_x):\n",
    "    for y in range(1, size_y):\n",
    "        print(x, y, str(seq1[x-1]), str(seq2[y-1]))\n",
    "        if seq1[x-1] == seq2[y-1]:\n",
    "            matrix [x,y] = min(\n",
    "                matrix[x-1, y] + len(seq1[x-1]),\n",
    "                matrix[x-1, y-1],\n",
    "                matrix[x, y-1] + len(seq2[y-1])\n",
    "            )\n",
    "        else:\n",
    "            matrix [x,y] = min(\n",
    "                matrix[x-1,y] + len(seq1[x-1]),\n",
    "                matrix[x-1,y-1] + abs(len(seq1[x-1]) - len(seq2[y-1])),\n",
    "                matrix[x,y-1] + len(seq2[y-1])\n",
    "            )"
   ]
  },
  {
   "cell_type": "code",
   "execution_count": 69,
   "metadata": {
    "collapsed": true,
    "jupyter": {
     "outputs_hidden": true,
     "source_hidden": true
    }
   },
   "outputs": [
    {
     "data": {
      "text/plain": [
       "array([[ 0.,  3.,  8., 11., 14.],\n",
       "       [ 3.,  0.,  5.,  8., 11.],\n",
       "       [ 6.,  3.,  2.,  5.,  8.],\n",
       "       [ 9.,  6.,  5.,  2.,  5.]])"
      ]
     },
     "execution_count": 69,
     "metadata": {},
     "output_type": "execute_result"
    }
   ],
   "source": [
    "matrix"
   ]
  },
  {
   "cell_type": "code",
   "execution_count": 15,
   "metadata": {},
   "outputs": [],
   "source": [
    "all_phonemes = {phoneme for language in languages for lexeme in language for phoneme in lexeme}"
   ]
  },
  {
   "cell_type": "code",
   "execution_count": null,
   "metadata": {},
   "outputs": [],
   "source": []
  }
 ],
 "metadata": {
  "kernelspec": {
   "display_name": "Python 3",
   "language": "python",
   "name": "python3"
  },
  "language_info": {
   "codemirror_mode": {
    "name": "ipython",
    "version": 3
   },
   "file_extension": ".py",
   "mimetype": "text/x-python",
   "name": "python",
   "nbconvert_exporter": "python",
   "pygments_lexer": "ipython3",
   "version": "3.7.3"
  }
 },
 "nbformat": 4,
 "nbformat_minor": 4
}
