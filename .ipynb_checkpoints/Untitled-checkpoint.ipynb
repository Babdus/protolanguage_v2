{
 "cells": [
  {
   "cell_type": "code",
   "execution_count": 13,
   "metadata": {},
   "outputs": [],
   "source": [
    "s = {1,2,3,4}"
   ]
  },
  {
   "cell_type": "code",
   "execution_count": 18,
   "metadata": {},
   "outputs": [],
   "source": [
    "def rec(chosen, rest, n):\n",
    "    subsets = []\n",
    "    rest2 = rest\n",
    "    for r in rest:\n",
    "        rest2 = rest2 - {r}\n",
    "        chosen2 = chosen | {r}\n",
    "        print(' '*n, r, chosen2, rest2)\n",
    "        subsets += [chosen2] + rec(chosen2, rest2, n+1)\n",
    "    return subsets"
   ]
  },
  {
   "cell_type": "code",
   "execution_count": 20,
   "metadata": {},
   "outputs": [
    {
     "name": "stdout",
     "output_type": "stream",
     "text": [
      " 1 {1} {2, 3, 4}\n",
      "  2 {1, 2} {3, 4}\n",
      "   3 {1, 2, 3} {4}\n",
      "    4 {1, 2, 3, 4} set()\n",
      "   4 {1, 2, 4} set()\n",
      "  3 {1, 3} {4}\n",
      "   4 {1, 3, 4} set()\n",
      "  4 {1, 4} set()\n",
      " 2 {2} {3, 4}\n",
      "  3 {2, 3} {4}\n",
      "   4 {2, 3, 4} set()\n",
      "  4 {2, 4} set()\n",
      " 3 {3} {4}\n",
      "  4 {3, 4} set()\n",
      " 4 {4} set()\n"
     ]
    }
   ],
   "source": [
    "subsets = rec(set(), s, 0)"
   ]
  },
  {
   "cell_type": "code",
   "execution_count": null,
   "metadata": {},
   "outputs": [],
   "source": []
  }
 ],
 "metadata": {
  "kernelspec": {
   "display_name": "Python 3",
   "language": "python",
   "name": "python3"
  },
  "language_info": {
   "codemirror_mode": {
    "name": "ipython",
    "version": 3
   },
   "file_extension": ".py",
   "mimetype": "text/x-python",
   "name": "python",
   "nbconvert_exporter": "python",
   "pygments_lexer": "ipython3",
   "version": "3.6.9"
  }
 },
 "nbformat": 4,
 "nbformat_minor": 2
}
